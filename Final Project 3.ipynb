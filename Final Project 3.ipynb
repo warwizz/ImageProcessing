{
 "cells": [
  {
   "cell_type": "markdown",
   "id": "9dde92b2",
   "metadata": {},
   "source": [
    "# Import Library"
   ]
  },
  {
   "cell_type": "code",
   "execution_count": 4,
   "id": "b7f29f41",
   "metadata": {},
   "outputs": [],
   "source": [
    "import os\n",
    "import numpy as np\n",
    "import torch\n",
    "import pandas as pd\n",
    "import tensorflow as tf\n",
    "import torchvision\n",
    "import seaborn as sns\n",
    "from torchvision import datasets, models, transforms\n",
    "import matplotlib.pyplot as plt\n",
    "from sklearn.model_selection import train_test_split\n",
    "from tensorflow.keras.models import Sequential\n",
    "from tensorflow.keras.layers import Conv2D, MaxPooling2D, Flatten, Dense, Dropout, Activation\n",
    "from sklearn import metrics\n",
    "from sklearn.metrics import confusion_matrix, classification_report\n",
    "from mlxtend.plotting import plot_confusion_matrix\n",
    "from keras.preprocessing import image\n",
    "from tensorflow.keras import backend\n",
    "\n",
    "train_on_gpu = torch.cuda.is_available()\n",
    "\n",
    "%matplotlib inline"
   ]
  },
  {
   "cell_type": "markdown",
   "id": "206abf1e",
   "metadata": {},
   "source": [
    "# Generating Dataset from Directory"
   ]
  },
  {
   "cell_type": "code",
   "execution_count": 72,
   "id": "5d7cecce",
   "metadata": {},
   "outputs": [],
   "source": [
    "train_alphabet_dir = 'asl-alphabet/asl_alphabet_train/asl_alphabet_train'\n",
    "test_alphabet_dir = 'asl-alphabet/asl_alphabet_test/asl_alphabet_test'"
   ]
  },
  {
   "cell_type": "code",
   "execution_count": 6,
   "id": "fe83accd",
   "metadata": {},
   "outputs": [
    {
     "name": "stdout",
     "output_type": "stream",
     "text": [
      "Num training images:  87000\n"
     ]
    }
   ],
   "source": [
    "train_data = datasets.ImageFolder(train_alphabet_dir)\n",
    "\n",
    "print('Num training images: ', len(train_data))"
   ]
  },
  {
   "cell_type": "markdown",
   "id": "5f8ff5ae",
   "metadata": {},
   "source": [
    "## Tranform the Data Into a Dataframe"
   ]
  },
  {
   "cell_type": "code",
   "execution_count": 7,
   "id": "2330bca5",
   "metadata": {},
   "outputs": [
    {
     "data": {
      "text/html": [
       "<div>\n",
       "<style scoped>\n",
       "    .dataframe tbody tr th:only-of-type {\n",
       "        vertical-align: middle;\n",
       "    }\n",
       "\n",
       "    .dataframe tbody tr th {\n",
       "        vertical-align: top;\n",
       "    }\n",
       "\n",
       "    .dataframe thead th {\n",
       "        text-align: right;\n",
       "    }\n",
       "</style>\n",
       "<table border=\"1\" class=\"dataframe\">\n",
       "  <thead>\n",
       "    <tr style=\"text-align: right;\">\n",
       "      <th></th>\n",
       "      <th>label</th>\n",
       "      <th>path</th>\n",
       "    </tr>\n",
       "  </thead>\n",
       "  <tbody>\n",
       "    <tr>\n",
       "      <th>0</th>\n",
       "      <td>A</td>\n",
       "      <td>asl-alphabet/asl_alphabet_train/asl_alphabet_t...</td>\n",
       "    </tr>\n",
       "    <tr>\n",
       "      <th>1</th>\n",
       "      <td>A</td>\n",
       "      <td>asl-alphabet/asl_alphabet_train/asl_alphabet_t...</td>\n",
       "    </tr>\n",
       "    <tr>\n",
       "      <th>2</th>\n",
       "      <td>A</td>\n",
       "      <td>asl-alphabet/asl_alphabet_train/asl_alphabet_t...</td>\n",
       "    </tr>\n",
       "    <tr>\n",
       "      <th>3</th>\n",
       "      <td>A</td>\n",
       "      <td>asl-alphabet/asl_alphabet_train/asl_alphabet_t...</td>\n",
       "    </tr>\n",
       "    <tr>\n",
       "      <th>4</th>\n",
       "      <td>A</td>\n",
       "      <td>asl-alphabet/asl_alphabet_train/asl_alphabet_t...</td>\n",
       "    </tr>\n",
       "    <tr>\n",
       "      <th>...</th>\n",
       "      <td>...</td>\n",
       "      <td>...</td>\n",
       "    </tr>\n",
       "    <tr>\n",
       "      <th>86995</th>\n",
       "      <td>Z</td>\n",
       "      <td>asl-alphabet/asl_alphabet_train/asl_alphabet_t...</td>\n",
       "    </tr>\n",
       "    <tr>\n",
       "      <th>86996</th>\n",
       "      <td>Z</td>\n",
       "      <td>asl-alphabet/asl_alphabet_train/asl_alphabet_t...</td>\n",
       "    </tr>\n",
       "    <tr>\n",
       "      <th>86997</th>\n",
       "      <td>Z</td>\n",
       "      <td>asl-alphabet/asl_alphabet_train/asl_alphabet_t...</td>\n",
       "    </tr>\n",
       "    <tr>\n",
       "      <th>86998</th>\n",
       "      <td>Z</td>\n",
       "      <td>asl-alphabet/asl_alphabet_train/asl_alphabet_t...</td>\n",
       "    </tr>\n",
       "    <tr>\n",
       "      <th>86999</th>\n",
       "      <td>Z</td>\n",
       "      <td>asl-alphabet/asl_alphabet_train/asl_alphabet_t...</td>\n",
       "    </tr>\n",
       "  </tbody>\n",
       "</table>\n",
       "<p>87000 rows × 2 columns</p>\n",
       "</div>"
      ],
      "text/plain": [
       "      label                                               path\n",
       "0         A  asl-alphabet/asl_alphabet_train/asl_alphabet_t...\n",
       "1         A  asl-alphabet/asl_alphabet_train/asl_alphabet_t...\n",
       "2         A  asl-alphabet/asl_alphabet_train/asl_alphabet_t...\n",
       "3         A  asl-alphabet/asl_alphabet_train/asl_alphabet_t...\n",
       "4         A  asl-alphabet/asl_alphabet_train/asl_alphabet_t...\n",
       "...     ...                                                ...\n",
       "86995     Z  asl-alphabet/asl_alphabet_train/asl_alphabet_t...\n",
       "86996     Z  asl-alphabet/asl_alphabet_train/asl_alphabet_t...\n",
       "86997     Z  asl-alphabet/asl_alphabet_train/asl_alphabet_t...\n",
       "86998     Z  asl-alphabet/asl_alphabet_train/asl_alphabet_t...\n",
       "86999     Z  asl-alphabet/asl_alphabet_train/asl_alphabet_t...\n",
       "\n",
       "[87000 rows x 2 columns]"
      ]
     },
     "execution_count": 7,
     "metadata": {},
     "output_type": "execute_result"
    }
   ],
   "source": [
    "all_data = []\n",
    "for folder in os.listdir(train_alphabet_dir):\n",
    "    \n",
    "    label_folder = os.path.join(train_alphabet_dir, folder)\n",
    "    onlyfiles = [{'label':folder,'path':os.path.join(label_folder, f)} for f in os.listdir(label_folder) if os.path.isfile(os.path.join(label_folder, f))]\n",
    "    #print(onlyfiles)\n",
    "    all_data += onlyfiles\n",
    "data = pd.DataFrame(all_data)\n",
    "data"
   ]
  },
  {
   "cell_type": "markdown",
   "id": "ef493818",
   "metadata": {},
   "source": [
    "# Splitting Data"
   ]
  },
  {
   "cell_type": "code",
   "execution_count": 8,
   "id": "032be221",
   "metadata": {},
   "outputs": [],
   "source": [
    "Xtrain, Xval = train_test_split(data, test_size=0.2, stratify=data[['label']])"
   ]
  },
  {
   "cell_type": "code",
   "execution_count": 9,
   "id": "7874aafb",
   "metadata": {},
   "outputs": [],
   "source": [
    "TRAIN_BATCH_SIZE=32\n",
    "VAL_BATCH_SIZE=32\n",
    "TARGET_SIZE=100"
   ]
  },
  {
   "cell_type": "code",
   "execution_count": 10,
   "id": "201d5bc9",
   "metadata": {},
   "outputs": [],
   "source": [
    "X = 'path'\n",
    "Y = 'label'"
   ]
  },
  {
   "cell_type": "code",
   "execution_count": 11,
   "id": "f5cedc81",
   "metadata": {},
   "outputs": [
    {
     "name": "stdout",
     "output_type": "stream",
     "text": [
      "Found 69600 validated image filenames belonging to 29 classes.\n",
      "Found 17400 validated image filenames belonging to 29 classes.\n"
     ]
    }
   ],
   "source": [
    "datagen = tf.keras.preprocessing.image.ImageDataGenerator(\n",
    "    rescale=1./255\n",
    ")\n",
    "\n",
    "train_datagen = datagen.flow_from_dataframe(\n",
    "    dataframe=Xtrain,x_col=X,\n",
    "    y_col=Y,\n",
    "    class_mode=\"categorical\",\n",
    "    target_size=(TARGET_SIZE, TARGET_SIZE),\n",
    "    batch_size=TRAIN_BATCH_SIZE\n",
    ")\n",
    "\n",
    "val_datagen = datagen.flow_from_dataframe(\n",
    "    dataframe=Xval,x_col=X,\n",
    "    y_col=Y,\n",
    "    class_mode=\"categorical\",\n",
    "    target_size=(TARGET_SIZE, TARGET_SIZE),\n",
    "    batch_size=TRAIN_BATCH_SIZE\n",
    ")"
   ]
  },
  {
   "cell_type": "code",
   "execution_count": 12,
   "id": "480f3a2d",
   "metadata": {},
   "outputs": [],
   "source": [
    "backend.clear_session()\n",
    "np.random.seed(42)\n",
    "import random\n",
    "random.seed(42)\n",
    "tf.random.set_seed(42)"
   ]
  },
  {
   "cell_type": "code",
   "execution_count": 13,
   "id": "78f5ca4b",
   "metadata": {},
   "outputs": [],
   "source": [
    "early_stop = tf.keras.callbacks.EarlyStopping(monitor=\"val_accuracy\", min_delta=1e-2, patience=3, verbose=1, restore_best_weights=True)\n",
    "reduce_lr_on_plateau = tf.keras.callbacks.ReduceLROnPlateau(monitor=\"val_accuracy\", factor=1e-1, patience=3, verbose=1, min_delta=1e-2)"
   ]
  },
  {
   "cell_type": "code",
   "execution_count": 14,
   "id": "c58e89c8",
   "metadata": {
    "scrolled": true
   },
   "outputs": [
    {
     "name": "stdout",
     "output_type": "stream",
     "text": [
      "Epoch 1/20\n",
      "2175/2175 [==============================] - 242s 111ms/step - loss: 1.0596 - accuracy: 0.6750 - categorical_accuracy: 0.6750 - val_loss: 0.3929 - val_accuracy: 0.8673 - val_categorical_accuracy: 0.8673 - lr: 0.0010\n",
      "Epoch 2/20\n",
      "2175/2175 [==============================] - 199s 91ms/step - loss: 0.2580 - accuracy: 0.9144 - categorical_accuracy: 0.9144 - val_loss: 0.1432 - val_accuracy: 0.9580 - val_categorical_accuracy: 0.9580 - lr: 0.0010\n",
      "Epoch 3/20\n",
      "2175/2175 [==============================] - 198s 91ms/step - loss: 0.1463 - accuracy: 0.9505 - categorical_accuracy: 0.9505 - val_loss: 0.1435 - val_accuracy: 0.9522 - val_categorical_accuracy: 0.9522 - lr: 0.0010\n",
      "Epoch 4/20\n",
      "2175/2175 [==============================] - 196s 90ms/step - loss: 0.1116 - accuracy: 0.9624 - categorical_accuracy: 0.9624 - val_loss: 0.0825 - val_accuracy: 0.9749 - val_categorical_accuracy: 0.9749 - lr: 0.0010\n",
      "Epoch 5/20\n",
      "2175/2175 [==============================] - 196s 90ms/step - loss: 0.0881 - accuracy: 0.9697 - categorical_accuracy: 0.9697 - val_loss: 0.1165 - val_accuracy: 0.9621 - val_categorical_accuracy: 0.9621 - lr: 0.0010\n",
      "Epoch 6/20\n",
      "2175/2175 [==============================] - 201s 93ms/step - loss: 0.0763 - accuracy: 0.9746 - categorical_accuracy: 0.9746 - val_loss: 0.0915 - val_accuracy: 0.9690 - val_categorical_accuracy: 0.9690 - lr: 0.0010\n",
      "Epoch 7/20\n",
      "2175/2175 [==============================] - ETA: 0s - loss: 0.0687 - accuracy: 0.9771 - categorical_accuracy: 0.9771Restoring model weights from the end of the best epoch: 4.\n",
      "\n",
      "Epoch 7: ReduceLROnPlateau reducing learning rate to 0.00010000000474974513.\n",
      "2175/2175 [==============================] - 204s 94ms/step - loss: 0.0687 - accuracy: 0.9771 - categorical_accuracy: 0.9771 - val_loss: 0.0607 - val_accuracy: 0.9826 - val_categorical_accuracy: 0.9826 - lr: 0.0010\n",
      "Epoch 7: early stopping\n"
     ]
    }
   ],
   "source": [
    "model = tf.keras.models.Sequential([\n",
    "    tf.keras.layers.Conv2D(filters= 32,kernel_size=(5,5),input_shape =(TARGET_SIZE,TARGET_SIZE,3), activation=\"relu\"),\n",
    "    tf.keras.layers.MaxPooling2D(2, 2),\n",
    "    tf.keras.layers.Dropout(0.3),\n",
    "    tf.keras.layers.Flatten(), \n",
    "    tf.keras.layers.Dense(32, activation=\"relu\"), \n",
    "    tf.keras.layers.Dense(29, activation=\"softmax\")\n",
    "    ])\n",
    "model.compile(\n",
    "    optimizer='Adam',\n",
    "    loss=\"categorical_crossentropy\",\n",
    "    metrics=[\"accuracy\",\"CategoricalAccuracy\"]\n",
    ")\n",
    "hist = model.fit(train_datagen, batch_size=TRAIN_BATCH_SIZE, validation_data=val_datagen, \n",
    "    epochs=20, callbacks=[early_stop,reduce_lr_on_plateau])"
   ]
  },
  {
   "cell_type": "code",
   "execution_count": 15,
   "id": "561e6a8f",
   "metadata": {
    "scrolled": true
   },
   "outputs": [
    {
     "data": {
      "text/plain": [
       "<AxesSubplot:xlabel='epoch', ylabel='loss'>"
      ]
     },
     "execution_count": 15,
     "metadata": {},
     "output_type": "execute_result"
    },
    {
     "data": {
      "image/png": "[encoded data removed]",
      "text/plain": [
       "<Figure size 432x288 with 1 Axes>"
      ]
     },
     "metadata": {
      "needs_background": "light"
     },
     "output_type": "display_data"
    }
   ],
   "source": [
    "hist_df = pd.DataFrame(hist.history)\n",
    "hist_df['epoch']=hist.epoch\n",
    "sns.lineplot(data=hist_df, x='epoch',y='loss', label='train')\n",
    "sns.lineplot(data=hist_df, x='epoch',y='val_loss', label='train')"
   ]
  },
  {
   "cell_type": "code",
   "execution_count": 16,
   "id": "c14a1c38",
   "metadata": {
    "scrolled": true
   },
   "outputs": [
    {
     "data": {
      "text/plain": [
       "<AxesSubplot:xlabel='epoch', ylabel='accuracy'>"
      ]
     },
     "execution_count": 16,
     "metadata": {},
     "output_type": "execute_result"
    },
    {
     "data": {
      "image/png": "[encoded data removed]",
      "text/plain": [
       "<Figure size 432x288 with 1 Axes>"
      ]
     },
     "metadata": {
      "needs_background": "light"
     },
     "output_type": "display_data"
    }
   ],
   "source": [
    "hist_df = pd.DataFrame(hist.history)\n",
    "hist_df['epoch']=hist.epoch\n",
    "sns.lineplot(data=hist_df, x='epoch',y='accuracy', label='train')\n",
    "sns.lineplot(data=hist_df, x='epoch',y='val_accuracy', label='train')"
   ]
  },
  {
   "cell_type": "code",
   "execution_count": 44,
   "id": "fd3f4cee",
   "metadata": {},
   "outputs": [
    {
     "data": {
      "text/plain": [
       "Label           Z\n",
       "Pred     0.999999\n",
       "Name: 25, dtype: object"
      ]
     },
     "execution_count": 44,
     "metadata": {},
     "output_type": "execute_result"
    }
   ],
   "source": [
    "sample_path = \"asl-alphabet/asl_alphabet_test/asl_alphabet_test/Z_test.jpg\"\n",
    "img = image.load_img(sample_path, target_size=(TARGET_SIZE, TARGET_SIZE))\n",
    "x = image.img_to_array(img)\n",
    "x /= 255\n",
    "x = np.expand_dims(x, axis=0)\n",
    "\n",
    "classes = pd.DataFrame(model.predict(x, batch_size=1)).T\n",
    "class_labels = pd.DataFrame(train_datagen.class_indices.keys())\n",
    "res = pd.concat([class_labels,classes], axis=1)\n",
    "res.columns = ['Label','Pred']\n",
    "p = res.loc[res.Pred==res.Pred.max()]\n",
    "p.iloc[0]"
   ]
  },
  {
   "cell_type": "code",
   "execution_count": 3,
   "id": "4ef7df73",
   "metadata": {},
   "outputs": [],
   "source": [
    "model = tf.keras.models.load_model(\"model_asl.h5\")"
   ]
  },
  {
   "cell_type": "markdown",
   "id": "8a493c17",
   "metadata": {},
   "source": [
    "## Model 2"
   ]
  },
  {
   "cell_type": "code",
   "execution_count": 46,
   "id": "128a185d",
   "metadata": {},
   "outputs": [],
   "source": [
    "backend.clear_session()\n",
    "np.random.seed(42)\n",
    "import random\n",
    "random.seed(42)\n",
    "tf.random.set_seed(42)"
   ]
  },
  {
   "cell_type": "code",
   "execution_count": 48,
   "id": "c0fdc327",
   "metadata": {
    "scrolled": false
   },
   "outputs": [
    {
     "name": "stdout",
     "output_type": "stream",
     "text": [
      "Epoch 1/20\n",
      "2175/2175 [==============================] - 441s 203ms/step - loss: 1.6541 - accuracy: 0.5124 - categorical_accuracy: 0.5124 - val_loss: 1.4588 - val_accuracy: 0.5015 - val_categorical_accuracy: 0.5015 - lr: 0.0010\n",
      "Epoch 2/20\n",
      "2175/2175 [==============================] - 418s 192ms/step - loss: 0.5091 - accuracy: 0.8422 - categorical_accuracy: 0.8422 - val_loss: 0.6018 - val_accuracy: 0.8106 - val_categorical_accuracy: 0.8106 - lr: 0.0010\n",
      "Epoch 3/20\n",
      "2175/2175 [==============================] - 419s 193ms/step - loss: 0.2988 - accuracy: 0.9056 - categorical_accuracy: 0.9056 - val_loss: 1.2559 - val_accuracy: 0.6191 - val_categorical_accuracy: 0.6191 - lr: 0.0010\n",
      "Epoch 4/20\n",
      "2175/2175 [==============================] - 414s 190ms/step - loss: 0.2200 - accuracy: 0.9290 - categorical_accuracy: 0.9290 - val_loss: 0.7499 - val_accuracy: 0.7564 - val_categorical_accuracy: 0.7564 - lr: 0.0010\n",
      "Epoch 5/20\n",
      "2175/2175 [==============================] - ETA: 0s - loss: 0.1742 - accuracy: 0.9441 - categorical_accuracy: 0.9441Restoring model weights from the end of the best epoch: 2.\n",
      "\n",
      "Epoch 5: ReduceLROnPlateau reducing learning rate to 0.00010000000474974513.\n",
      "2175/2175 [==============================] - 411s 189ms/step - loss: 0.1742 - accuracy: 0.9441 - categorical_accuracy: 0.9441 - val_loss: 2.0985 - val_accuracy: 0.5130 - val_categorical_accuracy: 0.5130 - lr: 0.0010\n",
      "Epoch 5: early stopping\n"
     ]
    }
   ],
   "source": [
    "model2 = tf.keras.models.Sequential([\n",
    "    tf.keras.layers.Conv2D(filters= 32,kernel_size=(5,5),input_shape =(TARGET_SIZE,TARGET_SIZE,3), activation=\"relu\"),\n",
    "    tf.keras.layers.BatchNormalization(),\n",
    "    tf.keras.layers.MaxPooling2D(2, 2),\n",
    "    tf.keras.layers.Dropout(0.2),\n",
    "    tf.keras.layers.Conv2D(64, (3,3), activation='relu'),\n",
    "    tf.keras.layers.BatchNormalization(),\n",
    "    tf.keras.layers.MaxPooling2D(2,2),\n",
    "    tf.keras.layers.Dropout(0.2),\n",
    "    tf.keras.layers.GlobalAveragePooling2D(),\n",
    "    tf.keras.layers.Flatten(), \n",
    "    tf.keras.layers.Dense(32, activation=\"relu\"), \n",
    "    tf.keras.layers.Dense(29, activation=\"softmax\")\n",
    "    ])\n",
    "model2.compile(\n",
    "    optimizer='Adam',\n",
    "    loss=\"categorical_crossentropy\",\n",
    "    metrics=[\"accuracy\",\"CategoricalAccuracy\"]\n",
    ")\n",
    "hist2 = model2.fit(train_datagen, batch_size=TRAIN_BATCH_SIZE, validation_data=val_datagen, \n",
    "    epochs=20, callbacks=[early_stop,reduce_lr_on_plateau])"
   ]
  },
  {
   "cell_type": "code",
   "execution_count": 49,
   "id": "30163adc",
   "metadata": {
    "scrolled": true
   },
   "outputs": [
    {
     "data": {
      "text/plain": [
       "<AxesSubplot:xlabel='epoch', ylabel='loss'>"
      ]
     },
     "execution_count": 49,
     "metadata": {},
     "output_type": "execute_result"
    },
    {
     "data": {
      "image/png": "[encoded data removed]",
      "text/plain": [
       "<Figure size 432x288 with 1 Axes>"
      ]
     },
     "metadata": {
      "needs_background": "light"
     },
     "output_type": "display_data"
    }
   ],
   "source": [
    "hist2_df = pd.DataFrame(hist2.history)\n",
    "hist2_df['epoch']=hist2.epoch\n",
    "sns.lineplot(data=hist2_df, x='epoch',y='loss', label='train')\n",
    "sns.lineplot(data=hist2_df, x='epoch',y='val_loss', label='train')"
   ]
  },
  {
   "cell_type": "code",
   "execution_count": 50,
   "id": "eb142ca0",
   "metadata": {
    "scrolled": true
   },
   "outputs": [
    {
     "data": {
      "text/plain": [
       "<AxesSubplot:xlabel='epoch', ylabel='accuracy'>"
      ]
     },
     "execution_count": 50,
     "metadata": {},
     "output_type": "execute_result"
    },
    {
     "data": {
      "image/png": "[encoded data removed]",
      "text/plain": [
       "<Figure size 432x288 with 1 Axes>"
      ]
     },
     "metadata": {
      "needs_background": "light"
     },
     "output_type": "display_data"
    }
   ],
   "source": [
    "hist2_df = pd.DataFrame(hist2.history)\n",
    "hist2_df['epoch']=hist2.epoch\n",
    "sns.lineplot(data=hist2_df, x='epoch',y='accuracy', label='train')\n",
    "sns.lineplot(data=hist2_df, x='epoch',y='val_accuracy', label='train')"
   ]
  },
  {
   "cell_type": "markdown",
   "id": "58f2902f",
   "metadata": {},
   "source": [
    "## Model 3"
   ]
  },
  {
   "cell_type": "code",
   "execution_count": 52,
   "id": "03ef8fd1",
   "metadata": {},
   "outputs": [],
   "source": [
    "backend.clear_session()\n",
    "np.random.seed(42)\n",
    "import random\n",
    "random.seed(42)\n",
    "tf.random.set_seed(42)"
   ]
  },
  {
   "cell_type": "code",
   "execution_count": 51,
   "id": "f7df684c",
   "metadata": {},
   "outputs": [
    {
     "name": "stdout",
     "output_type": "stream",
     "text": [
      "Downloading data from https://storage.googleapis.com/tensorflow/keras-applications/inception_v3/inception_v3_weights_tf_dim_ordering_tf_kernels_notop.h5\n",
      "87916544/87910968 [==============================] - 35s 0us/step\n",
      "87924736/87910968 [==============================] - 35s 0us/step\n"
     ]
    }
   ],
   "source": [
    "from tensorflow.keras.applications.inception_v3 import InceptionV3\n",
    "\n",
    "pre_trained_model = InceptionV3(input_shape = (TARGET_SIZE, TARGET_SIZE, 3), \n",
    "                                include_top = False, \n",
    "                                weights = 'imagenet')"
   ]
  },
  {
   "cell_type": "code",
   "execution_count": 56,
   "id": "f0726003",
   "metadata": {
    "scrolled": true
   },
   "outputs": [
    {
     "name": "stdout",
     "output_type": "stream",
     "text": [
      "Model: \"sequential_3\"\n",
      "_________________________________________________________________\n",
      " Layer (type)                Output Shape              Param #   \n",
      "=================================================================\n",
      " inception_v3 (Functional)   (None, 1, 1, 2048)        21802784  \n",
      "                                                                 \n",
      " flatten_3 (Flatten)         (None, 2048)              0         \n",
      "                                                                 \n",
      " dense_6 (Dense)             (None, 128)               262272    \n",
      "                                                                 \n",
      " dense_7 (Dense)             (None, 29)                3741      \n",
      "                                                                 \n",
      "=================================================================\n",
      "Total params: 22,068,797\n",
      "Trainable params: 266,013\n",
      "Non-trainable params: 21,802,784\n",
      "_________________________________________________________________\n"
     ]
    }
   ],
   "source": [
    "pre_trained_model.trainable = False\n",
    "transfer_model = tf.keras.models.Sequential([\n",
    "    tf.keras.layers.InputLayer(input_shape=(TARGET_SIZE, TARGET_SIZE, 3)),\n",
    "    pre_trained_model,\n",
    "    tf.keras.layers.Flatten(), \n",
    "    tf.keras.layers.Dense(128, activation=\"relu\"), \n",
    "    tf.keras.layers.Dense(29, activation=\"softmax\")\n",
    "])\n",
    "\n",
    "transfer_model.compile(optimizer=\"Adam\", loss='categorical_crossentropy', metrics=[\"accuracy\",\"CategoricalAccuracy\"])\n",
    "transfer_model.summary()"
   ]
  },
  {
   "cell_type": "code",
   "execution_count": 57,
   "id": "74cf720b",
   "metadata": {},
   "outputs": [
    {
     "name": "stdout",
     "output_type": "stream",
     "text": [
      "Epoch 1/20\n",
      "2175/2175 [==============================] - 293s 134ms/step - loss: 0.6335 - accuracy: 0.8159 - categorical_accuracy: 0.8159 - val_loss: 0.2737 - val_accuracy: 0.9130 - val_categorical_accuracy: 0.9130 - lr: 0.0010\n",
      "Epoch 2/20\n",
      "2175/2175 [==============================] - 289s 133ms/step - loss: 0.1945 - accuracy: 0.9392 - categorical_accuracy: 0.9392 - val_loss: 0.1581 - val_accuracy: 0.9492 - val_categorical_accuracy: 0.9492 - lr: 0.0010\n",
      "Epoch 3/20\n",
      "2175/2175 [==============================] - 284s 130ms/step - loss: 0.1302 - accuracy: 0.9584 - categorical_accuracy: 0.9584 - val_loss: 0.1574 - val_accuracy: 0.9507 - val_categorical_accuracy: 0.9507 - lr: 0.0010\n",
      "Epoch 4/20\n",
      "2175/2175 [==============================] - 286s 132ms/step - loss: 0.0973 - accuracy: 0.9686 - categorical_accuracy: 0.9686 - val_loss: 0.1359 - val_accuracy: 0.9576 - val_categorical_accuracy: 0.9576 - lr: 0.0010\n",
      "Epoch 5/20\n",
      "2175/2175 [==============================] - 284s 131ms/step - loss: 0.0767 - accuracy: 0.9749 - categorical_accuracy: 0.9749 - val_loss: 0.1190 - val_accuracy: 0.9614 - val_categorical_accuracy: 0.9614 - lr: 0.0010\n",
      "Epoch 6/20\n",
      "2175/2175 [==============================] - 285s 131ms/step - loss: 0.0645 - accuracy: 0.9794 - categorical_accuracy: 0.9794 - val_loss: 0.1101 - val_accuracy: 0.9639 - val_categorical_accuracy: 0.9639 - lr: 0.0010\n",
      "Epoch 7/20\n",
      "2175/2175 [==============================] - 285s 131ms/step - loss: 0.0581 - accuracy: 0.9812 - categorical_accuracy: 0.9812 - val_loss: 0.1409 - val_accuracy: 0.9586 - val_categorical_accuracy: 0.9586 - lr: 0.0010\n",
      "Epoch 8/20\n",
      "2175/2175 [==============================] - ETA: 0s - loss: 0.0494 - accuracy: 0.9836 - categorical_accuracy: 0.9836Restoring model weights from the end of the best epoch: 5.\n",
      "\n",
      "Epoch 8: ReduceLROnPlateau reducing learning rate to 0.00010000000474974513.\n",
      "2175/2175 [==============================] - 286s 132ms/step - loss: 0.0494 - accuracy: 0.9836 - categorical_accuracy: 0.9836 - val_loss: 0.1267 - val_accuracy: 0.9636 - val_categorical_accuracy: 0.9636 - lr: 0.0010\n",
      "Epoch 8: early stopping\n"
     ]
    }
   ],
   "source": [
    "hist3 = transfer_model.fit(train_datagen, batch_size=TRAIN_BATCH_SIZE, validation_data=val_datagen, \n",
    "    epochs=20, callbacks=[early_stop,reduce_lr_on_plateau])"
   ]
  },
  {
   "cell_type": "code",
   "execution_count": 60,
   "id": "2bcaf7b9",
   "metadata": {
    "scrolled": true
   },
   "outputs": [
    {
     "data": {
      "text/plain": [
       "<AxesSubplot:xlabel='epoch', ylabel='loss'>"
      ]
     },
     "execution_count": 60,
     "metadata": {},
     "output_type": "execute_result"
    },
    {
     "data": {
      "image/png": "[encoded data removed]",
      "text/plain": [
       "<Figure size 432x288 with 1 Axes>"
      ]
     },
     "metadata": {
      "needs_background": "light"
     },
     "output_type": "display_data"
    }
   ],
   "source": [
    "hist3_df = pd.DataFrame(hist3.history)\n",
    "hist3_df['epoch']=hist3.epoch\n",
    "sns.lineplot(data=hist3_df, x='epoch',y='loss', label='train')\n",
    "sns.lineplot(data=hist3_df, x='epoch',y='val_loss', label='train')"
   ]
  },
  {
   "cell_type": "code",
   "execution_count": 61,
   "id": "ffa86ed7",
   "metadata": {
    "scrolled": false
   },
   "outputs": [
    {
     "data": {
      "text/plain": [
       "<AxesSubplot:xlabel='epoch', ylabel='accuracy'>"
      ]
     },
     "execution_count": 61,
     "metadata": {},
     "output_type": "execute_result"
    },
    {
     "data": {
      "image/png": "[encoded data removed]",
      "text/plain": [
       "<Figure size 432x288 with 1 Axes>"
      ]
     },
     "metadata": {
      "needs_background": "light"
     },
     "output_type": "display_data"
    }
   ],
   "source": [
    "hist3_df = pd.DataFrame(hist3.history)\n",
    "hist3_df['epoch']=hist3.epoch\n",
    "sns.lineplot(data=hist3_df, x='epoch',y='accuracy', label='train')\n",
    "sns.lineplot(data=hist3_df, x='epoch',y='val_accuracy', label='train')"
   ]
  },
  {
   "cell_type": "code",
   "execution_count": 62,
   "id": "a357e4ae",
   "metadata": {},
   "outputs": [],
   "source": [
    "transfer_model.save_weights('model3_asl_weights.h5')\n",
    "transfer_model.save('model3_asl.h5')"
   ]
  },
  {
   "cell_type": "code",
   "execution_count": 64,
   "id": "e2023fa6",
   "metadata": {
    "scrolled": true
   },
   "outputs": [
    {
     "data": {
      "text/plain": [
       "Label           Z\n",
       "Pred     0.999999\n",
       "Name: 25, dtype: object"
      ]
     },
     "execution_count": 64,
     "metadata": {},
     "output_type": "execute_result"
    }
   ],
   "source": [
    "sample_path = \"asl-alphabet/asl_alphabet_test/asl_alphabet_test/Z_test.jpg\"\n",
    "img = image.load_img(sample_path, target_size=(TARGET_SIZE, TARGET_SIZE))\n",
    "x = image.img_to_array(img)\n",
    "x /= 255\n",
    "x = np.expand_dims(x, axis=0)\n",
    "\n",
    "classes = pd.DataFrame(transfer_model.predict(x, batch_size=1)).T\n",
    "class_labels = pd.DataFrame(train_datagen.class_indices.keys())\n",
    "res = pd.concat([class_labels,classes], axis=1)\n",
    "res.columns = ['Label','Pred']\n",
    "p = res.loc[res.Pred==res.Pred.max()]\n",
    "p.iloc[0]"
   ]
  },
  {
   "cell_type": "code",
   "execution_count": 104,
   "id": "135cc57c",
   "metadata": {},
   "outputs": [
    {
     "name": "stdout",
     "output_type": "stream",
     "text": [
      "Found 29 images belonging to 29 classes.\n"
     ]
    }
   ],
   "source": [
    "test_data = datagen.flow_from_directory(\n",
    "    'asl-alphabet/asl_alphabet_test/asl_alphabet_test',\n",
    "    class_mode=\"categorical\",\n",
    "    target_size=(TARGET_SIZE, TARGET_SIZE),\n",
    "    batch_size=TRAIN_BATCH_SIZE,\n",
    "    shuffle=False\n",
    ")"
   ]
  },
  {
   "cell_type": "code",
   "execution_count": 105,
   "id": "74802c82",
   "metadata": {
    "scrolled": true
   },
   "outputs": [
    {
     "name": "stdout",
     "output_type": "stream",
     "text": [
      "1/1 [==============================] - 0s 115ms/step\n",
      "              precision    recall  f1-score   support\n",
      "\n",
      "           A       1.00      1.00      1.00         1\n",
      "           B       1.00      1.00      1.00         1\n",
      "           C       1.00      1.00      1.00         1\n",
      "           D       1.00      1.00      1.00         1\n",
      "           E       1.00      1.00      1.00         1\n",
      "           F       1.00      1.00      1.00         1\n",
      "           G       1.00      1.00      1.00         1\n",
      "           H       1.00      1.00      1.00         1\n",
      "           I       1.00      1.00      1.00         1\n",
      "           J       1.00      1.00      1.00         1\n",
      "           K       1.00      1.00      1.00         1\n",
      "           L       1.00      1.00      1.00         1\n",
      "           M       1.00      1.00      1.00         1\n",
      "           N       1.00      1.00      1.00         1\n",
      "           O       1.00      1.00      1.00         1\n",
      "           P       1.00      1.00      1.00         1\n",
      "           Q       1.00      1.00      1.00         1\n",
      "           R       1.00      1.00      1.00         1\n",
      "           S       1.00      1.00      1.00         1\n",
      "           T       1.00      1.00      1.00         1\n",
      "           U       1.00      1.00      1.00         1\n",
      "           V       1.00      1.00      1.00         1\n",
      "           W       1.00      1.00      1.00         1\n",
      "           X       1.00      1.00      1.00         1\n",
      "           Y       1.00      1.00      1.00         1\n",
      "           Z       1.00      1.00      1.00         1\n",
      "         del       1.00      1.00      1.00         1\n",
      "     nothing       1.00      1.00      1.00         1\n",
      "       space       1.00      1.00      1.00         1\n",
      "\n",
      "    accuracy                           1.00        29\n",
      "   macro avg       1.00      1.00      1.00        29\n",
      "weighted avg       1.00      1.00      1.00        29\n",
      "\n"
     ]
    }
   ],
   "source": [
    "predictions = transfer_model.predict(test_data, verbose=1)\n",
    "# Get most likely class\n",
    "predicted_classes = np.argmax(predictions, axis=-1)\n",
    "predictions = np.argmax(predictions, axis=-1) #multiple categories\n",
    "\n",
    "true_classes = test_data.classes\n",
    "class_labels = list(test_data.class_indices.keys())  \n",
    "report = metrics.classification_report(true_classes, predicted_classes, target_names=class_labels)\n",
    "print(report)"
   ]
  },
  {
   "cell_type": "markdown",
   "id": "214a41a9",
   "metadata": {},
   "source": [
    "## Kesimpulan"
   ]
  },
  {
   "cell_type": "markdown",
   "id": "e13dbbda",
   "metadata": {},
   "source": [
    "Digunakan model pertama karena pada kurva evaluasi, nilai antara validation loss - loss dan validation accuracy dan accuracy paling berhimpit"
   ]
  },
  {
   "cell_type": "code",
   "execution_count": 17,
   "id": "994e961a",
   "metadata": {},
   "outputs": [],
   "source": [
    "model.save_weights('model2_asl_weights.h5')\n",
    "model.save('model2_asl.h5')"
   ]
  }
 ],
 "metadata": {
  "kernelspec": {
   "display_name": "Python 3 (ipykernel)",
   "language": "python",
   "name": "python3"
  },
  "language_info": {
   "codemirror_mode": {
    "name": "ipython",
    "version": 3
   },
   "file_extension": ".py",
   "mimetype": "text/x-python",
   "name": "python",
   "nbconvert_exporter": "python",
   "pygments_lexer": "ipython3",
   "version": "3.9.7"
  }
 },
 "nbformat": 4,
 "nbformat_minor": 5
}
